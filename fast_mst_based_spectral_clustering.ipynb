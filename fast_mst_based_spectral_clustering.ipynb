{
  "nbformat": 4,
  "nbformat_minor": 0,
  "metadata": {
    "colab": {
      "provenance": [],
      "collapsed_sections": []
    },
    "kernelspec": {
      "name": "python3",
      "display_name": "Python 3"
    },
    "language_info": {
      "name": "python"
    }
  },
  "cells": [
    {
      "cell_type": "markdown",
      "source": [
        "Import packages and libraries"
      ],
      "metadata": {
        "id": "oYd0QdpJG8Sh"
      }
    },
    {
      "cell_type": "code",
      "execution_count": 1,
      "metadata": {
        "id": "K9Vp25SBEyF5"
      },
      "outputs": [],
      "source": [
        "import numpy as np\n",
        "import math\n",
        "import pandas as pd\n",
        "from sklearn.cluster import KMeans\n",
        "import os\n",
        "from sklearn.metrics import adjusted_rand_score, silhouette_score, adjusted_mutual_info_score, normalized_mutual_info_score, confusion_matrix, calinski_harabasz_score, davies_bouldin_score\n",
        "from sklearn import metrics\n",
        "from scipy.special import comb\n",
        "from scipy.sparse.linalg import eigsh, eigs\n",
        "from scipy.sparse import csr_matrix, diags, coo_matrix\n",
        "import scipy.linalg as LA\n",
        "from scipy.spatial import distance\n",
        "from matplotlib import pyplot as plt\n",
        "from scipy.sparse.csgraph import minimum_spanning_tree\n",
        "import warnings\n",
        "warnings.filterwarnings(\"ignore\")"
      ]
    },
    {
      "cell_type": "markdown",
      "source": [
        "# Validity Indices"
      ],
      "metadata": {
        "id": "ZezcqiwfHBwo"
      }
    },
    {
      "cell_type": "code",
      "source": [
        "def rand_index_score(clusters, classes):\n",
        "    tp_plus_fp = comb(np.bincount(clusters), 2).sum()\n",
        "    tp_plus_fn = comb(np.bincount(classes), 2).sum()\n",
        "    A = np.c_[(clusters, classes)]\n",
        "    tp = sum(comb(np.bincount(A[A[:, 0] == i, 1]), 2).sum()\n",
        "             for i in set(clusters))\n",
        "    fp = tp_plus_fp - tp\n",
        "    fn = tp_plus_fn - tp\n",
        "    tn = comb(len(A), 2) - tp - fp - fn\n",
        "    return (tp + tn) / (tp + fp + fn + tn)"
      ],
      "metadata": {
        "id": "mFx8AAOHHHD4"
      },
      "execution_count": 2,
      "outputs": []
    },
    {
      "cell_type": "code",
      "source": [
        "def purity_score(y_true, y_pred):\n",
        "    # compute contingency matrix (also called confusion matrix)\n",
        "    contingency_matrix = metrics.cluster.contingency_matrix(y_true, y_pred)\n",
        "    # return purity\n",
        "    return np.sum(np.amax(contingency_matrix, axis=0)) / np.sum(contingency_matrix)"
      ],
      "metadata": {
        "id": "nmS7RXcQHPCA"
      },
      "execution_count": 3,
      "outputs": []
    },
    {
      "cell_type": "markdown",
      "source": [
        "# Proposed method"
      ],
      "metadata": {
        "id": "QE7e2aSNHRhI"
      }
    },
    {
      "cell_type": "markdown",
      "source": [
        "Partitioning step"
      ],
      "metadata": {
        "id": "Ft9lIQzvJbxJ"
      }
    },
    {
      "cell_type": "code",
      "source": [
        "def bi_means_devide(X, X_indices, k, P, centroids, farthest_points1, farthest_points2):\n",
        "  N = len(X_indices)\n",
        "  X_partition = X[X_indices]\n",
        "\n",
        "  if N > k: # base condition\n",
        "    X_indices_arr = np.array(X_indices)\n",
        "    center = X_partition.mean(axis=0) # centroid of the partition\n",
        "\n",
        "    distances = distance.cdist([center], X_partition)\n",
        "    c_index = distances[0].argmin() #closest point from centeroid\n",
        "\n",
        "    distances = distance.cdist([X_partition[c_index]], X_partition)\n",
        "    p_index = distances[0].argmax() # farthest point from c\n",
        "\n",
        "    distances = distance.cdist([X_partition[p_index]], X_partition)\n",
        "    q_index = distances[0].argmax() # farthest point from p\n",
        "\n",
        "    # spliting of a partition into two sub-partitions\n",
        "    distances = distance.cdist(X_partition, [X_partition[p_index], X_partition[q_index]])\n",
        "\n",
        "    min_i = distances.argmin(axis = 1)\n",
        "    \n",
        "    p_min_Is = np.where(min_i == 0)[0]\n",
        "    q_min_Is = np.where(min_i == 1)[0]\n",
        "    \n",
        "    # recursively calling bi_means_devide for the sub-partitions\n",
        "    bi_means_devide(X, X_indices_arr[p_min_Is], k, P, centroids, farthest_points1, farthest_points2)\n",
        "    bi_means_devide(X, X_indices_arr[q_min_Is], k, P, centroids, farthest_points1, farthest_points2)\n",
        "  else:\n",
        "    P.append(X_indices.tolist()) # adding the partition\n",
        "\n",
        "    # finding of representative points\n",
        "    center = X_partition.mean(axis=0)\n",
        "\n",
        "    distances = distance.cdist([center], X_partition)\n",
        "    p_index = distances[0].argmax() # farthest point from c\n",
        "\n",
        "    distances = distance.cdist([X_partition[p_index]], X_partition)\n",
        "    q_index = distances[0].argmax() # farthest point from p\n",
        "\n",
        "    distances = distance.cdist(X_partition, [X_partition[p_index], X_partition[q_index]])\n",
        "    min_i = distances.argmin(axis = 1)\n",
        "\n",
        "    p_min_Is = np.where(min_i == 0)[0]\n",
        "    q_min_Is = np.where(min_i == 1)[0]\n",
        "\n",
        "    X_p = X_partition[p_min_Is]\n",
        "    X_q = X_partition[q_min_Is]\n",
        "    \n",
        "    centroids.append(center) # first representative point\n",
        "\n",
        "    if len(X_p) == 0:\n",
        "      farthest_points1.append(center)\n",
        "    else:\n",
        "      farthest_points1.append(X_p.mean(axis=0)) # second representative point\n",
        "    if len(X_q) == 0:\n",
        "      farthest_points2.append(center)\n",
        "    else:\n",
        "      farthest_points2.append(X_q.mean(axis=0)) # third representative point"
      ],
      "metadata": {
        "id": "GwlYW4g7HV6v"
      },
      "execution_count": 4,
      "outputs": []
    },
    {
      "cell_type": "markdown",
      "source": [
        "Similarity graph computation"
      ],
      "metadata": {
        "id": "e4UhcAukJfwg"
      }
    },
    {
      "cell_type": "code",
      "source": [
        "def bimeans_fast_mst_10(X, N, k, num_features, num_rounds_neighbors=2, num_rounds=2):\n",
        "    # partitioning and representative points\n",
        "    P = []\n",
        "    centroids = []\n",
        "    farthest_points1 = []\n",
        "    farthest_points2 = []\n",
        "    vertices = np.arange(N, dtype=int)\n",
        "    bi_means_devide(X, vertices, k, P, centroids, farthest_points1, farthest_points2)\n",
        "    n = len(centroids)\n",
        "    \n",
        "    farthest_points1_arr = np.array(farthest_points1)\n",
        "    farthest_points2_arr = np.array(farthest_points2)\n",
        "    centroids_arr = np.array(centroids)\n",
        "    \n",
        "    R = np.hstack((centroids_arr, farthest_points1_arr, farthest_points2_arr)) # representative points od each partition\n",
        "    R = R.reshape((R.shape[0], 3, R.shape[1] // 3))\n",
        "  \n",
        "    # computing neighboring partitions\n",
        "    cen_distances = np.zeros((n, n))\n",
        "    for i in range(n):\n",
        "        for j in range(i + 1, n):\n",
        "            dist_arr = distance.cdist(R[i], R[j])\n",
        "            d = dist_arr.min()\n",
        "            d_index = dist_arr.argmin()\n",
        "            cen_distances[i][j] = d\n",
        "            cen_distances[j][i] = d\n",
        "\n",
        "    _MST_CEN_1 = coo_matrix(minimum_spanning_tree(cen_distances))\n",
        "    cen_distances[_MST_CEN_1.row, _MST_CEN_1.col] = 0\n",
        "    cen_distances[_MST_CEN_1.col, _MST_CEN_1.row] = 0\n",
        "    Edges_single =  _MST_CEN_1.data\n",
        "    MST1 = np.hstack(( _MST_CEN_1.row.reshape(n - 1, 1), _MST_CEN_1.col.reshape(n - 1, 1) ))\n",
        "    \n",
        "    try:\n",
        "        _MST_CEN_2 = coo_matrix(minimum_spanning_tree(cen_distances))\n",
        "        Edges_single =  _MST_CEN_2.data\n",
        "        MST2 = np.hstack(( _MST_CEN_2.row.reshape(n - 1, 1), _MST_CEN_2.col.reshape(n - 1, 1) ))\n",
        "        \n",
        "        NP = np.concatenate((MST1, MST2)) # neighboring partitions\n",
        "    except:\n",
        "        NP = MST1\n",
        "    \n",
        "    G_L = csr_matrix((N, N))\n",
        "\n",
        "    # computing IPM for each neighboring partitions\n",
        "    for subset_pairs in NP:\n",
        "        i, j = subset_pairs[0], subset_pairs[1]\n",
        "        subset_i, subset_j = P[i], P[j]\n",
        "\n",
        "        subset = np.array(subset_i + subset_j)\n",
        "        _n = len(subset)\n",
        "        X_s = X[subset]\n",
        "\n",
        "        D = distance.cdist(X_s, X_s)\n",
        "\n",
        "        MST1 = coo_matrix(minimum_spanning_tree(D))\n",
        "        MST_1_weights = MST1.data\n",
        "        # print(subset, MST1.row)\n",
        "        # print(subset[MST1.row])\n",
        "        D[MST1.row, MST1.col] = 0\n",
        "        D[MST1.col, MST1.row] = 0\n",
        "        MST1 = np.hstack(( subset[MST1.row].reshape(_n - 1, 1), subset[MST1.col].reshape(_n - 1, 1) ))\n",
        "\n",
        "        try:\n",
        "            MST2 = coo_matrix(minimum_spanning_tree(D))\n",
        "            MST_2_weights = MST2.data\n",
        "            MST2 = np.hstack(( subset[MST2.row].reshape(_n - 1, 1), subset[MST2.col].reshape(_n - 1, 1) ))\n",
        "            IPM = np.concatenate((MST1, MST2)) # Inter-partition MST\n",
        "            IPM_weights = np.concatenate((MST_1_weights, MST_2_weights))\n",
        "        except:\n",
        "            # print(_i, \"graph disconnected\")\n",
        "            IPM = MST1\n",
        "            IPM_weights = MST_1_weights\n",
        "        \n",
        "        G_L[IPM[:, 0], IPM[:, 1]] = IPM_weights\n",
        "        G_L[IPM[:, 1], IPM[:, 0]] = IPM_weights\n",
        "\n",
        "        \n",
        "    # 2-rounds MST\n",
        "    MST1 = coo_matrix(minimum_spanning_tree(G_L))\n",
        "    MST1_weights = MST1.data\n",
        "    G_L[MST1.row, MST1.col] = 0\n",
        "    G_L[MST1.col, MST1.row] = 0\n",
        "    G_L.eliminate_zeros()\n",
        "    MST1 = np.hstack(( MST1.row.reshape(N - 1, 1), MST1.col.reshape(N - 1, 1) ))\n",
        "\n",
        "    try:\n",
        "        MST2 = coo_matrix(minimum_spanning_tree(G_L))\n",
        "        MST2_weights = MST2.data\n",
        "        MST2 = np.hstack(( MST2.row.reshape(N - 1, 1), MST2.col.reshape(N - 1, 1) ))\n",
        "        MST_2 = np.concatenate((MST1, MST2)) # neighboring partitions\n",
        "        MST_2_weights = np.concatenate((MST1_weights, MST2_weights))\n",
        "    except:\n",
        "        # print(\"LNG graph disconnected\")\n",
        "        MST_2 = MST1\n",
        "        MST_2_weights = MST1_weights\n",
        "    \n",
        "    # computing adjacency matrix\n",
        "    A = csr_matrix((N, N))\n",
        "    A[MST_2[:, 0], MST_2[:, 1]] = MST_2_weights\n",
        "    A[MST_2[:, 1], MST_2[:, 0]] = MST_2_weights\n",
        "\n",
        "    return G_L, MST_2, A"
      ],
      "metadata": {
        "id": "InH1hjiVJi0v"
      },
      "execution_count": 5,
      "outputs": []
    },
    {
      "cell_type": "markdown",
      "source": [
        "Finding smallest eigenvectors"
      ],
      "metadata": {
        "id": "Rsa8V5WAzano"
      }
    },
    {
      "cell_type": "code",
      "source": [
        "def get_k_smallest_eigenvectors(A, N, K, flag = True):\n",
        "    A1 = A.sum(axis=1)\n",
        "    A1 = A1.reshape(N)\n",
        "    D = diags(np.array(A1)[0]) # degree matrix\n",
        "    L = D - A #laplacian matrix\n",
        "    if flag:\n",
        "        vals, vecs = eigsh(L, k=K, which='SM') # K-smallest eigenvectors using lancsoz\n",
        "        vecs = vecs[:,np.argsort(vals.real)]\n",
        "    else: #ignores smallest eigenvector\n",
        "        vals, vecs = eigsh(L, k=K+1, which='SM')\n",
        "        vecs = vecs[:,np.argsort(vals.real)[1:]]\n",
        "    return vecs.real.astype('float32')"
      ],
      "metadata": {
        "id": "hHribenSzl39"
      },
      "execution_count": 6,
      "outputs": []
    },
    {
      "cell_type": "markdown",
      "source": [
        "Spectral clustering"
      ],
      "metadata": {
        "id": "tYbev_KL09Uw"
      }
    },
    {
      "cell_type": "code",
      "source": [
        "def mySC(X, K):\n",
        "    N, num_features = X.shape\n",
        "    k = math.ceil(N ** 0.5)\n",
        "    G_L, MST_2, A = bimeans_fast_mst_10(X, N, math.ceil(k / (8 ** 0.5)), num_features)\n",
        "    \n",
        "    k_vecs = get_k_smallest_eigenvectors(A, N, K)\n",
        "    \n",
        "    max_ari, max_ri, max_pu, max_ami = -1, 0, 0, 0\n",
        "    max_labels = None\n",
        "    for iter in range(10):\n",
        "        kmeans = KMeans(n_clusters=K, n_init=1, init='random')\n",
        "        kmeans.fit(k_vecs)\n",
        "        labels = kmeans.labels_\n",
        "        ari, ri, pu, ami = adjusted_rand_score(labels, lab), rand_index_score(labels, lab), purity_score(lab, labels), adjusted_mutual_info_score(labels, lab)\n",
        "        if ari > max_ari:\n",
        "            max_ari, max_ri, max_pu, max_ami = ari, ri, pu, ami\n",
        "            max_labels = labels\n",
        "    \n",
        "    return max_ari, max_ri, max_pu, max_ami, max_labels"
      ],
      "metadata": {
        "id": "mSyDyK6H1B0a"
      },
      "execution_count": 7,
      "outputs": []
    },
    {
      "cell_type": "markdown",
      "source": [
        "# Test"
      ],
      "metadata": {
        "id": "qcOwoTJ00Bm1"
      }
    },
    {
      "cell_type": "markdown",
      "source": [
        "Load dataset"
      ],
      "metadata": {
        "id": "7Th1BnVL0D-l"
      }
    },
    {
      "cell_type": "code",
      "source": [
        "file_path, sep = \"flame_k=2.txt\", \"\\t\"\n",
        "df = pd.read_csv(file_path, sep=sep, header=None)\n",
        "df, lab = df.iloc[:, :-1], df.iloc[:, -1].astype('int')\n",
        "K = len(set(lab)) # number of clusters\n",
        "X = np.array(df, dtype='float32')\n",
        "is_plot = True # to visualize the results of 2D synthetic datasets"
      ],
      "metadata": {
        "id": "GvB9faaajFLr"
      },
      "execution_count": 8,
      "outputs": []
    },
    {
      "cell_type": "markdown",
      "source": [
        "Run proposed algorithm"
      ],
      "metadata": {
        "id": "UI1shyvS0gsw"
      }
    },
    {
      "cell_type": "code",
      "source": [
        "ari, ri, pu, ami, labels = mySC(X, K)\n",
        "\n",
        "if is_plot:\n",
        "    plt.scatter(X[:, 0], X[:, 1], c = labels)\n",
        "    plt.show()\n",
        "print(\"RI:\", ri)\n",
        "print(\"ARI:\", ari)\n",
        "print(\"AMI:\", ami)\n",
        "print(\"Purity:\", pu)"
      ],
      "metadata": {
        "colab": {
          "base_uri": "https://localhost:8080/",
          "height": 337
        },
        "id": "fw06YeyK0jH2",
        "outputId": "b1afed72-2d2e-45ec-9023-852012c66793"
      },
      "execution_count": 9,
      "outputs": [
        {
          "output_type": "display_data",
          "data": {
            "text/plain": [
              "<Figure size 432x288 with 1 Axes>"
            ],
            "image/png": "[encoded data removed]"
          },
          "metadata": {
            "needs_background": "light"
          }
        },
        {
          "output_type": "stream",
          "name": "stdout",
          "text": [
            "RI: 0.9352859135285914\n",
            "ARI: 0.8695133875459655\n",
            "AMI: 0.8101141172291583\n",
            "Purity: 0.9666666666666667\n"
          ]
        }
      ]
    }
  ]
}